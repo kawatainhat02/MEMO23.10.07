import numpy as np
import pandas as pd
import seaborn as sns
import matplotlib.pyplot as plt
from tqdm import tqdm

from sklearn.linear_model import *
from sklearn.datasets import fetch_openml, fetch_california_housing
